{
 "cells": [
  {
   "cell_type": "code",
   "execution_count": null,
   "metadata": {
    "collapsed": false
   },
   "outputs": [],
   "source": [
    "import shutil\n",
    "import os\n",
    "from tqdm import tqdm_notebook\n",
    "import csv"
   ]
  },
  {
   "cell_type": "code",
   "execution_count": null,
   "metadata": {
    "collapsed": true
   },
   "outputs": [],
   "source": [
    "# Path of folder which needed to be itratively searched\n",
    "Path_folder_1=\"/home/intern_eyecare/images/Images_download_Impacs/\"\n",
    "#address_csv_for_folder_1 =\"/home/intern_eyecare/images/images_d.csv\"\n"
   ]
  },
  {
   "cell_type": "code",
   "execution_count": null,
   "metadata": {
    "collapsed": false
   },
   "outputs": [],
   "source": [
    "\n",
    "#file2 = open(address_csv_for_folder_2)\n",
    "\n",
    "#writer2 = csv.writer(file2)\n",
    "l1=[]\n"
   ]
  },
  {
   "cell_type": "code",
   "execution_count": null,
   "metadata": {
    "collapsed": true
   },
   "outputs": [],
   "source": [
    "import re\n",
    "def findit(string):\n",
    "    b=re.search(\".*\\.jpg\",string,re.IGNORECASE)\n",
    "    c=re.search(\".*\\.jpeg\",string,re.IGNORECASE)\n",
    "    if b or c:\n",
    "        return True\n",
    "    else:\n",
    "        return False"
   ]
  },
  {
   "cell_type": "code",
   "execution_count": null,
   "metadata": {
    "collapsed": true
   },
   "outputs": [],
   "source": [
    "def findimage(folder_address):\n",
    "    for filename in os.listdir(folder_address):\n",
    "        if findit(filename):\n",
    "            if not filename in l1:\n",
    "                l1.append(filename)\n",
    "                #writer1.writerow(folder_address+filename)\n",
    "        elif filename!=None:\n",
    "            try:\n",
    "                print(\"Going to folder \"+filename)\n",
    "                findimage(folder_address+filename+\"/\")\n",
    "            except:\n",
    "                print(filename+\" not processed\")\n",
    "    return"
   ]
  },
  {
   "cell_type": "code",
   "execution_count": null,
   "metadata": {
    "collapsed": false,
    "scrolled": true
   },
   "outputs": [],
   "source": [
    "#with open(address_csv_for_folder_1) as file1:\n",
    "#    writer1=csv.writer(file1,delimiter=' ')\n",
    "#    findimage(Path_folder_1)\n",
    "findimage(Path_folder_1)"
   ]
  },
  {
   "cell_type": "code",
   "execution_count": null,
   "metadata": {
    "collapsed": true
   },
   "outputs": [],
   "source": [
    "#comment every thing below this if you just want to search iteratively\n",
    "\n",
    "# Address of folder needed to be compared\n",
    "Path_folder_2= \"/home/intern_eyecare/images/DR/\"\n",
    "#address_csv_for_folder_2=\"/home/intern_eyecare/images/Dr.csv\"\n",
    "l2=[]"
   ]
  },
  {
   "cell_type": "code",
   "execution_count": null,
   "metadata": {
    "collapsed": true
   },
   "outputs": [],
   "source": [
    "def findimage(folder_address):\n",
    "    for filename in os.listdir(folder_address):\n",
    "        if findit(filename):\n",
    "            if not filename in l2:\n",
    "                l2.append(filename)\n",
    "                #writer1.writerow(folder_address+filename)\n",
    "        elif filename!=None:\n",
    "            try:\n",
    "                print(\"Going to folder \"+filename)\n",
    "                findimage(folder_address+filename+\"/\")\n",
    "            except:\n",
    "                print(filename+\" not processed\")\n",
    "    return"
   ]
  },
  {
   "cell_type": "code",
   "execution_count": null,
   "metadata": {
    "collapsed": false,
    "scrolled": true
   },
   "outputs": [],
   "source": [
    "#with open(address_csv_for_folder_2) as file2:\n",
    "#    writer2=csv.writer(file2,delimiter=' ')\n",
    "#    findimage(Path_folder_2)\n",
    "\n",
    "findimage(Path_folder_2)"
   ]
  },
  {
   "cell_type": "code",
   "execution_count": null,
   "metadata": {
    "collapsed": false,
    "scrolled": true
   },
   "outputs": [],
   "source": [
    "notinsystem=[]\n",
    "for i in l1:\n",
    "    if i not in l2:\n",
    "        notinsystem.append(i)\n",
    "        print(i)"
   ]
  },
  {
   "cell_type": "code",
   "execution_count": null,
   "metadata": {
    "collapsed": false
   },
   "outputs": [],
   "source": [
    "len(notinsystem)"
   ]
  },
  {
   "cell_type": "code",
   "execution_count": null,
   "metadata": {
    "collapsed": false
   },
   "outputs": [],
   "source": [
    "len(l1)"
   ]
  },
  {
   "cell_type": "code",
   "execution_count": null,
   "metadata": {
    "collapsed": false
   },
   "outputs": [],
   "source": [
    "insystem=[]\n",
    "for i in l1:\n",
    "    if i in l2:\n",
    "        insystem.append(i)\n",
    "        print(i)"
   ]
  },
  {
   "cell_type": "code",
   "execution_count": null,
   "metadata": {
    "collapsed": false
   },
   "outputs": [],
   "source": [
    "import pandas as pd\n",
    "\n",
    "df=pd.DataFrame({'imname':l1})"
   ]
  }
 ],
 "metadata": {
  "kernelspec": {
   "display_name": "Python [torch]",
   "language": "python",
   "name": "Python [torch]"
  },
  "language_info": {
   "codemirror_mode": {
    "name": "ipython",
    "version": 3
   },
   "file_extension": ".py",
   "mimetype": "text/x-python",
   "name": "python",
   "nbconvert_exporter": "python",
   "pygments_lexer": "ipython3",
   "version": "3.6.5"
  }
 },
 "nbformat": 4,
 "nbformat_minor": 0
}
